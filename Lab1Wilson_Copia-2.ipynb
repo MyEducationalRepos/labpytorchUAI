{
  "nbformat": 4,
  "nbformat_minor": 0,
  "metadata": {
    "accelerator": "GPU",
    "colab": {
      "name": "Lab1Wilson_Copia.ipynb",
      "provenance": [],
      "collapsed_sections": [],
      "toc_visible": true
    },
    "kernelspec": {
      "display_name": "Python 3",
      "name": "python3"
    }
  },
  "cells": [
    {
      "cell_type": "markdown",
      "metadata": {
        "id": "Asr65adWXS5P"
      },
      "source": [
        "![tiny-uai.jpeg](data:image/jpeg;base64,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)\n",
        "\n",
        "#**Laboratorio 01:** Clasificación lineal multiclase y redes neuronales convolucionales\n",
        "\n",
        "**Fecha de Entrega:** 23 de abril de 2021\n",
        "\n",
        "# Integrante(s): \n",
        "(*3 alumnos como máximo*)\n",
        "\n",
        "\n",
        "1.   Alumno 01\n",
        "2.   Alumno 02 (Opcional)\n",
        "3.   Alumno 03 (Opcional)\n",
        "\n",
        "\n",
        "# 1. Introducción\n",
        "\n",
        "##1.1 Descripción del problema\n",
        "\n",
        "Dada la base de datos vista en clases de imágenes de perros y gatos, se desea comparar el rendimiento de un clasificador lineal multiclase con respecto a un clasificador basado en redes neuronales profunda del tipo convolucional multiclase. \n",
        "\n",
        "Para realizar este trabajo, debe implementar ambos clasificadores utilizando el código visto en clases.\n",
        "\n",
        "El documento de laboratorio debe contener las siguientes secciones para explicar cada uno de los experimentos:\n",
        "\n",
        "*  **Librerías**: Debe indicar todas las librerías que serán utilizadas en el laboratorio. Prestando atención en **no colocar librerías** que no serán utilizadas en los experimentos.\n",
        "*  **Carga de la base de datos**: Incluye el código necesario para poder cargar los datos y la construcción de los _dataloader_.\n",
        "*  **Diseño del modelo**: Describir brevemente (en formato texto) la arquitectura de la red neuronal a implementar. Indicar la cantidad de datos de entrada, capas ocultas, salidas, número de neuronas, etc.\n",
        "* **Parámetros y configuración del modelo**: Esta sección debe contener una breve explicación de los parámetros utilizados para la construcción del modelo y una implementación en pytorch.\n",
        "* **Entrenamiento y validación**: Se deben describir metodológicamente como se realizará el entrenamiento. Definir hiperparámetros, función de coste, etc. Además, debe implementar el código adecuado para la optimización de parámetros utilizando descenso de gradiente (estocástico u otro). \n",
        "* **Pruebas**: Implementar el código que permita probar los parámetros, hiperparámetros y modelo, obtenido en la etapa de aprendizaje (entrenamiento). \n",
        "* **Resultados**: Calcular las métricas de rendimiento del clasificador para la etapa de entrenamiento y para pruebas. Explique los resultados obtenidos. Utilice la matriz de confusión, presición, recall y tasa de acierto para explicar el comportamiento del modelo.\n",
        "* **Conclusiones**: La conclusión consiste en sintetizar brevemente los puntos más relevantes, aportando nuevos **conocimientos** explorados en el laboratorio. Las conclusiones no son un resumen de lo realizado sino a lo que ha llevado el desarrollo del proyecto, no perdiendo de vista los objetivos planteados desde el principio y los resultados obtenidos. Es usual concluir con lo que queda por hacer, o sugerencias para mejorar.\n",
        "\n",
        "\n",
        "##1.2   Objetivos\n",
        "\n",
        "### Objetivo general\n",
        "Comparar el rendimiento de dos clasificadores que sean capaces de predecir la existencia de un perro o un gato en una imagen.\n",
        "\n",
        "### Objetivos específicos\n",
        "1. Cargar las imágenes e etiquetas de una base de datos basada en directorios y subdirectorios.\n",
        "2. Entrenar un modelo lineal multiclase para detectar imágenes de perros y gatos.\n",
        "3. Entrenar un modelo basado en redes neuronales convolucionales para detectar imágenes de perros y gatos.\n",
        "4. Probar ambos modelos y obtener las métricas de rendimiento: Tasa de acierto (accuracy), precisión (), (recall). \n",
        "5. Comparar ambos modelos e indicar cual de los dos tiene el mejor comportamiento y porqué."
      ]
    },
    {
      "cell_type": "markdown",
      "metadata": {
        "id": "gUngl6EtU_rk"
      },
      "source": [
        "##1.3 Librerías "
      ]
    },
    {
      "cell_type": "code",
      "metadata": {
        "id": "pXRceJ_DXN_V"
      },
      "source": [
        "import torch\n",
        "import torch.nn as nn\n",
        "import torch.nn.functional as F\n",
        "import torchvision\n",
        "from torchvision import transforms, datasets\n",
        "import numpy as np\n",
        "import PIL"
      ],
      "execution_count": 1,
      "outputs": []
    },
    {
      "cell_type": "markdown",
      "metadata": {
        "id": "BvbtlFblVOLc"
      },
      "source": [
        "## 1.4 Carga de base de datos desde google drive"
      ]
    },
    {
      "cell_type": "code",
      "metadata": {
        "colab": {
          "base_uri": "https://localhost:8080/"
        },
        "id": "xFzvyyyrd-oy",
        "outputId": "8371b78a-9300-48b8-fe4c-3fe0fff8c108"
      },
      "source": [
        "\n",
        "from google.colab import drive\n",
        "drive.mount('/content/drive')"
      ],
      "execution_count": 2,
      "outputs": [
        {
          "output_type": "stream",
          "text": [
            "Mounted at /content/drive\n"
          ],
          "name": "stdout"
        }
      ]
    },
    {
      "cell_type": "markdown",
      "metadata": {
        "id": "gvLpFNXKvAB-"
      },
      "source": [
        "Como se van a comparar dos modelos de clasificción, no se harán transformaciones en las imágenes. Tampoco se mezclará el conjunto de entrenamiento. Esto tienee como objetivo comparar ambos entrenamientos y modelos en las mismas condiciones. La idea detrás del laboratorio es encontrar los mejores parámetros e hiperparámtros para ambos modelos con los mismos datos para luego poder compararlos.\n"
      ]
    },
    {
      "cell_type": "code",
      "metadata": {
        "colab": {
          "base_uri": "https://localhost:8080/"
        },
        "id": "MvURnXPhVV58",
        "outputId": "70e9a1be-cc82-434c-fe59-5f6011c69aa7"
      },
      "source": [
        "\n",
        "batch_size  = 32\n",
        "\n",
        "data_transform = transforms.Compose([\n",
        "       transforms.Resize((28,28)),\n",
        "       transforms.Grayscale(num_output_channels=1),\n",
        "       transforms.ToTensor(),\n",
        "       transforms.Normalize(mean=[0.5], std=[0.5])])\n",
        "\n",
        "# Carga de las imágenes\n",
        "gatos_perros_train = datasets.ImageFolder(root='/content/drive/MyDrive/dataset/training_set',\n",
        "                                           transform=data_transform)\n",
        "gatos_perros_valid = datasets.ImageFolder(root='/content/drive/MyDrive/dataset/valid_set',\n",
        "                                           transform=data_transform)\n",
        "gatos_perros_test = datasets.ImageFolder(root='/content/drive/MyDrive/dataset/test_set',\n",
        "                                           transform=data_transform)\n",
        "\n",
        "# Conjunto de entrenamiento\n",
        "train_loader = torch.utils.data.DataLoader(gatos_perros_train,\n",
        "                                             batch_size=32, shuffle=True,\n",
        "                                             num_workers=2)\n",
        "\n",
        "# Conjunto de validación\n",
        "valid_loader = torch.utils.data.DataLoader(gatos_perros_valid,\n",
        "                                             batch_size=32, shuffle=False,\n",
        "                                             num_workers=2)\n",
        "\n",
        "# Conjunto de pruebas\n",
        "test_loader = torch.utils.data.DataLoader(gatos_perros_test,\n",
        "                                             batch_size=32, shuffle=False,\n",
        "                                             num_workers=2)\n",
        "\n",
        "print('Ver la dimension de la imagen:')\n",
        "print(gatos_perros_train[0][0].shape)\n",
        "print('Etiqueta:')\n",
        "print(gatos_perros_train[0][1])\n",
        "#"
      ],
      "execution_count": 3,
      "outputs": [
        {
          "output_type": "stream",
          "text": [
            "Ver la dimension de la imagen:\n",
            "torch.Size([1, 28, 28])\n",
            "Etiqueta:\n",
            "0\n"
          ],
          "name": "stdout"
        }
      ]
    },
    {
      "cell_type": "markdown",
      "metadata": {
        "id": "mN5AF0YNi0JU"
      },
      "source": [
        "## 1.5 Visualizar las imágenes de la base de datos\n",
        "\n",
        "En ciencia de datos siempre es bueno revisar como se está cargando la base de datos con el fin de comprobar la consistencia de estos."
      ]
    },
    {
      "cell_type": "code",
      "metadata": {
        "colab": {
          "base_uri": "https://localhost:8080/",
          "height": 569
        },
        "id": "1qKEh2HjjHow",
        "outputId": "ffa5ed4c-07ab-40d4-d021-231ac5c23298"
      },
      "source": [
        "import matplotlib.pyplot as plt\n",
        "import numpy as np\n",
        "\n",
        "plt.figure(num=None, figsize=(16, 14), dpi=80, facecolor='w', edgecolor='k')\n",
        "\n",
        "def imshow(img):\n",
        "  np_img = img.numpy()\n",
        "  plt.imshow(np.transpose(np_img, (1, 2, 0)))\n",
        "\n",
        "# Obtener imagenes\n",
        "data_iter = iter(train_loader)\n",
        "images, labels = data_iter.next()\n",
        "\n",
        "# Mostrar imagenes\n",
        "imshow(torchvision.utils.make_grid(images))"
      ],
      "execution_count": 4,
      "outputs": [
        {
          "output_type": "stream",
          "text": [
            "Clipping input data to the valid range for imshow with RGB data ([0..1] for floats or [0..255] for integers).\n"
          ],
          "name": "stderr"
        },
        {
          "output_type": "display_data",
          "data": {
            "image/png": "[encoded data removed]",
            "text/plain": [
              "<Figure size 1280x1120 with 1 Axes>"
            ]
          },
          "metadata": {
            "tags": []
          }
        }
      ]
    },
    {
      "cell_type": "code",
      "metadata": {
        "colab": {
          "base_uri": "https://localhost:8080/"
        },
        "id": "adza9W5XpgOP",
        "outputId": "eeef79a4-f006-447c-98bd-a2576b9be37c"
      },
      "source": [
        "labels"
      ],
      "execution_count": 49,
      "outputs": [
        {
          "output_type": "execute_result",
          "data": {
            "text/plain": [
              "tensor([0, 0, 0, 1, 0, 0, 0, 1, 1, 0, 0, 0, 0, 0, 0, 1, 0, 0, 0, 0, 1, 1, 0, 1,\n",
              "        1, 1, 0, 0, 0, 1, 1, 1])"
            ]
          },
          "metadata": {
            "tags": []
          },
          "execution_count": 49
        }
      ]
    },
    {
      "cell_type": "markdown",
      "metadata": {
        "id": "0mokBICxY50N"
      },
      "source": [
        "#2. Clasificador lineal multiclase\n",
        "\n",
        "Desarrollo de los experimentos para un clasificador lineal multiclase utilizando la base de datos de imágenes de perros y gatos vista en clases.\n"
      ]
    },
    {
      "cell_type": "markdown",
      "metadata": {
        "id": "RJcKp_PUVicE"
      },
      "source": [
        "## 2.1 Diseño del modelo propuesto\n",
        "\n",
        "Explicar arquitectura clasificador multiclase:\n",
        "* Entrada de datos\n",
        "* Modelo lineal propuesto\n",
        "* Salida esperada de datos\n",
        "\n",
        "## 2.2 Parámetros y configuración del modelo\n",
        "\n",
        "Explicar los parámetros e hiperparámetros seleccionados para la implementación del modelo, función de pérdida y modelo de optimización."
      ]
    },
    {
      "cell_type": "code",
      "metadata": {
        "id": "31QLKiToS4KI"
      },
      "source": [
        "import torch \n",
        "import torch.nn as nn\n",
        "import torch.optim as optim\n",
        "\n",
        "# Implementamos el modelo de imagenes 28 X 28 y con una clasificacion de dos clases\n",
        "linear_model = nn.Linear(784,2)\n",
        "\n",
        "# Configurar hiperparametros\n",
        "learning_rate = 1e-4 # \n",
        "weight_decay = 0.001 # \n",
        "num_epochs = 50\n",
        "\n",
        "# Configuramos la función de pérdida\n",
        "criterion = nn.CrossEntropyLoss()\n",
        "\n",
        "# Configuramos modelo de optimización\n",
        "optimizer = optim.SGD(linear_model.parameters(), lr=learning_rate, weight_decay=weight_decay)\n",
        "\n"
      ],
      "execution_count": 23,
      "outputs": []
    },
    {
      "cell_type": "markdown",
      "metadata": {
        "id": "2u0N07Nixk5O"
      },
      "source": [
        "## 3.3 Entrenamiento\n",
        "\n",
        "Implementar entrenamiento."
      ]
    },
    {
      "cell_type": "code",
      "metadata": {
        "id": "4uo-2PiXxk5d"
      },
      "source": [
        "def get_accuracy(model, data):\n",
        "  loader = torch.utils.data.DataLoader(data, batch_size=50)\n",
        "  correct, total = 0,0\n",
        "  for xs, ts in loader:\n",
        "    xs = xs.view(-1,784) # Convertir la imagen en un vector\n",
        "    zs = model(xs)\n",
        "    pred = zs.max(1, keepdim=True)[1]  # Obtener el indice de la clasificacion \n",
        "    correct += pred.eq(ts.view_as(pred)).sum().item()\n",
        "    total += int(ts.shape[0])\n",
        "  return correct / total"
      ],
      "execution_count": 24,
      "outputs": []
    },
    {
      "cell_type": "code",
      "metadata": {
        "colab": {
          "base_uri": "https://localhost:8080/"
        },
        "id": "KUZnMasaG-Wx",
        "outputId": "4d3d236d-fa61-4337-f018-0bd722392203"
      },
      "source": [
        "losses = []\n",
        "iters_sub, train_acc, val_acc = [], [] ,[]\n",
        "\n",
        "for epoch in range(num_epochs):\n",
        "  losses_it = []\n",
        "  for xs, ts in iter(train_loader):\n",
        "    if len(ts) != batch_size:\n",
        "      continue\n",
        "    xs = xs.view(-1, 784) # Convertir la imagen en un vector\n",
        "    zs = linear_model(xs) # Calcular la prediccion\n",
        "    loss = criterion(zs, ts) # Calcular el loss total\n",
        "    loss.backward() # Calcular gradientes\n",
        "    optimizer.step() # Actualizar parámetros\n",
        "    optimizer.zero_grad() # Borrar todos los cálculos anteriores en Pytorch\n",
        "    losses_it.append(float(loss)/batch_size)\n",
        "\n",
        "  # Guardar la información de entrenamiento de cada ciclo\n",
        "  print(f'Epoch: {epoch}... \\n', end='')\n",
        "  losses.append(sum(losses_it)/len(losses_it)) # Calcular el loss promedio\n",
        "  iters_sub.append(epoch + 1)\n",
        "  train_acc.append(get_accuracy(linear_model, gatos_perros_train))\n",
        "  val_acc.append(get_accuracy(linear_model, gatos_perros_valid))\n",
        "\n",
        "  \n"
      ],
      "execution_count": 25,
      "outputs": [
        {
          "output_type": "stream",
          "text": [
            "Epoch: 0... \n",
            "Epoch: 1... \n",
            "Epoch: 2... \n",
            "Epoch: 3... \n",
            "Epoch: 4... \n",
            "Epoch: 5... \n",
            "Epoch: 6... \n",
            "Epoch: 7... \n",
            "Epoch: 8... \n",
            "Epoch: 9... \n",
            "Epoch: 10... \n",
            "Epoch: 11... \n",
            "Epoch: 12... \n",
            "Epoch: 13... \n",
            "Epoch: 14... \n",
            "Epoch: 15... \n",
            "Epoch: 16... \n",
            "Epoch: 17... \n",
            "Epoch: 18... \n",
            "Epoch: 19... \n",
            "Epoch: 20... \n",
            "Epoch: 21... \n",
            "Epoch: 22... \n",
            "Epoch: 23... \n",
            "Epoch: 24... \n",
            "Epoch: 25... \n",
            "Epoch: 26... \n",
            "Epoch: 27... \n",
            "Epoch: 28... \n",
            "Epoch: 29... \n",
            "Epoch: 30... \n",
            "Epoch: 31... \n",
            "Epoch: 32... \n",
            "Epoch: 33... \n",
            "Epoch: 34... \n",
            "Epoch: 35... \n",
            "Epoch: 36... \n",
            "Epoch: 37... \n",
            "Epoch: 38... \n",
            "Epoch: 39... \n",
            "Epoch: 40... \n",
            "Epoch: 41... \n",
            "Epoch: 42... \n",
            "Epoch: 43... \n",
            "Epoch: 44... \n",
            "Epoch: 45... \n",
            "Epoch: 46... \n",
            "Epoch: 47... \n",
            "Epoch: 48... \n",
            "Epoch: 49... \n"
          ],
          "name": "stdout"
        }
      ]
    },
    {
      "cell_type": "markdown",
      "metadata": {
        "id": "vZuq2Sv0zgO5"
      },
      "source": [
        "### Gráfico de función de pérdida del conjunto de entrenamiento y validación"
      ]
    },
    {
      "cell_type": "code",
      "metadata": {
        "colab": {
          "base_uri": "https://localhost:8080/",
          "height": 295
        },
        "id": "szuPGFawzgPa",
        "outputId": "e3293069-c0e3-4f7f-e904-9eebd1efaf47"
      },
      "source": [
        "plt.figure(figsize=(20,4))\n",
        "plt.title(\"Curva de Entrenamiento (batch_size={}, lr={})\".format(batch_size, learning_rate))\n",
        "plt.plot(iters_sub, losses, label=\"Entrenamiento\")\n",
        "plt.xlabel(\"Iteracciones\")\n",
        "plt.ylabel(\"Loss\")\n",
        "plt.show()"
      ],
      "execution_count": 26,
      "outputs": [
        {
          "output_type": "display_data",
          "data": {
            "image/png": "[encoded data removed]",
            "text/plain": [
              "<Figure size 1440x288 with 1 Axes>"
            ]
          },
          "metadata": {
            "tags": [],
            "needs_background": "light"
          }
        }
      ]
    },
    {
      "cell_type": "markdown",
      "metadata": {
        "id": "9rvYaW3wzgPa"
      },
      "source": [
        "### Gráfico de tasa de acierto del conjunto de entrenamiento y validación"
      ]
    },
    {
      "cell_type": "code",
      "metadata": {
        "colab": {
          "base_uri": "https://localhost:8080/",
          "height": 295
        },
        "id": "FpqITfdWzgPb",
        "outputId": "5300baed-02d7-41af-fe43-14c2b6dd5a5f"
      },
      "source": [
        "plt.figure(figsize=(20, 4))\n",
        "plt.title(\"Curva de entrenamiento (batch_size={}, lr={})\".format(batch_size, learning_rate))\n",
        "plt.plot(iters_sub, train_acc, label=\"Entrenamiento\")\n",
        "plt.plot(iters_sub, val_acc, label=\"Validación\")\n",
        "plt.xlabel(\"Iteraciones\")\n",
        "plt.ylabel(\"Tasa de acierto\")\n",
        "plt.legend(loc='best')\n",
        "plt.show()\n"
      ],
      "execution_count": 27,
      "outputs": [
        {
          "output_type": "display_data",
          "data": {
            "image/png": "[encoded data removed]",
            "text/plain": [
              "<Figure size 1440x288 with 1 Axes>"
            ]
          },
          "metadata": {
            "tags": [],
            "needs_background": "light"
          }
        }
      ]
    },
    {
      "cell_type": "markdown",
      "metadata": {
        "id": "roT3jd8gncAY"
      },
      "source": [
        "### Visualizar la matriz de pesos resultante\n",
        "Mostrar una imagen con las matrices resultantes para el problema multiclase."
      ]
    },
    {
      "cell_type": "code",
      "metadata": {
        "colab": {
          "base_uri": "https://localhost:8080/",
          "height": 198
        },
        "id": "K0b9JDzlncAa",
        "outputId": "3ab11f0f-1ef0-49c2-f102-c6fd68c26e84"
      },
      "source": [
        "# Obtengo los parámetros en formato diccionario\n",
        "d = dict(linear_model.named_parameters())\n",
        "# Selecciono solo los parámetros que ajunta la regresión lineal\n",
        "w = d['weight']\n",
        "\n",
        "import matplotlib.pyplot as plt\n",
        "\n",
        "\n",
        "f = plt.figure(figsize=(20,6))\n",
        "# Por cada vector de parámetros pesos grafico (10x728)\n",
        "for index, template in enumerate(w):\n",
        "  template = template.detach().numpy().reshape(28,28)\n",
        "  plt.subplot(2, 5, index+1)\n",
        "  plt.imshow(template)"
      ],
      "execution_count": 29,
      "outputs": [
        {
          "output_type": "display_data",
          "data": {
            "image/png": "[encoded data removed]",
            "text/plain": [
              "<Figure size 1440x432 with 2 Axes>"
            ]
          },
          "metadata": {
            "tags": [],
            "needs_background": "light"
          }
        }
      ]
    },
    {
      "cell_type": "markdown",
      "metadata": {
        "id": "IkLdotHaZJ5g"
      },
      "source": [
        "## 2.3 Pruebas\n",
        "\n",
        "Explicar como se realizarán los experimentos y su pruebas. \n",
        "\n",
        "Los experimentos del conjunto de pruebas dependen de los hiperparámetros obtenidos en el entrenamiento. Explicar como son fijados esos hiperparámetros para el conjunto de prueba."
      ]
    },
    {
      "cell_type": "code",
      "metadata": {
        "id": "Hc2ikAy3ZXIu"
      },
      "source": [
        "def get_accuracy_2(model, data):\n",
        "  loader = torch.utils.data.DataLoader(data)\n",
        "  correct, total = 0,0\n",
        "  for xs, ts in loader:\n",
        "    xs = xs.view(-1,784) # Convertir la imagen en un vector\n",
        "    zs = model(xs)\n",
        "    pred = zs.max(1, keepdim=True)[1]  # Obtener el indice de la clasificacion \n",
        "    correct += pred.eq(ts.view_as(pred)).sum().item()\n",
        "    total += int(ts.shape[0])\n",
        "  return np.ravel(pred.numpy())"
      ],
      "execution_count": 52,
      "outputs": []
    },
    {
      "cell_type": "code",
      "metadata": {
        "id": "rehekoSjlZr2"
      },
      "source": [
        "data_iter = iter(train_loader)\n",
        "images, labels = data_iter.next()"
      ],
      "execution_count": 103,
      "outputs": []
    },
    {
      "cell_type": "code",
      "metadata": {
        "colab": {
          "base_uri": "https://localhost:8080/",
          "height": 307
        },
        "id": "XFwFVJvux9ts",
        "outputId": "fb1216c2-d328-460e-d7bd-0088cb473ad0"
      },
      "source": [
        "linear_model(images[0])"
      ],
      "execution_count": 106,
      "outputs": [
        {
          "output_type": "error",
          "ename": "RuntimeError",
          "evalue": "ignored",
          "traceback": [
            "\u001b[0;31m---------------------------------------------------------------------------\u001b[0m",
            "\u001b[0;31mRuntimeError\u001b[0m                              Traceback (most recent call last)",
            "\u001b[0;32m<ipython-input-106-db5873d31dd2>\u001b[0m in \u001b[0;36m<module>\u001b[0;34m()\u001b[0m\n\u001b[0;32m----> 1\u001b[0;31m \u001b[0mlinear_model\u001b[0m\u001b[0;34m(\u001b[0m\u001b[0mimages\u001b[0m\u001b[0;34m[\u001b[0m\u001b[0;36m0\u001b[0m\u001b[0;34m]\u001b[0m\u001b[0;34m)\u001b[0m\u001b[0;34m\u001b[0m\u001b[0;34m\u001b[0m\u001b[0m\n\u001b[0m",
            "\u001b[0;32m/usr/local/lib/python3.7/dist-packages/torch/nn/modules/module.py\u001b[0m in \u001b[0;36m_call_impl\u001b[0;34m(self, *input, **kwargs)\u001b[0m\n\u001b[1;32m    887\u001b[0m             \u001b[0mresult\u001b[0m \u001b[0;34m=\u001b[0m \u001b[0mself\u001b[0m\u001b[0;34m.\u001b[0m\u001b[0m_slow_forward\u001b[0m\u001b[0;34m(\u001b[0m\u001b[0;34m*\u001b[0m\u001b[0minput\u001b[0m\u001b[0;34m,\u001b[0m \u001b[0;34m**\u001b[0m\u001b[0mkwargs\u001b[0m\u001b[0;34m)\u001b[0m\u001b[0;34m\u001b[0m\u001b[0;34m\u001b[0m\u001b[0m\n\u001b[1;32m    888\u001b[0m         \u001b[0;32melse\u001b[0m\u001b[0;34m:\u001b[0m\u001b[0;34m\u001b[0m\u001b[0;34m\u001b[0m\u001b[0m\n\u001b[0;32m--> 889\u001b[0;31m             \u001b[0mresult\u001b[0m \u001b[0;34m=\u001b[0m \u001b[0mself\u001b[0m\u001b[0;34m.\u001b[0m\u001b[0mforward\u001b[0m\u001b[0;34m(\u001b[0m\u001b[0;34m*\u001b[0m\u001b[0minput\u001b[0m\u001b[0;34m,\u001b[0m \u001b[0;34m**\u001b[0m\u001b[0mkwargs\u001b[0m\u001b[0;34m)\u001b[0m\u001b[0;34m\u001b[0m\u001b[0;34m\u001b[0m\u001b[0m\n\u001b[0m\u001b[1;32m    890\u001b[0m         for hook in itertools.chain(\n\u001b[1;32m    891\u001b[0m                 \u001b[0m_global_forward_hooks\u001b[0m\u001b[0;34m.\u001b[0m\u001b[0mvalues\u001b[0m\u001b[0;34m(\u001b[0m\u001b[0;34m)\u001b[0m\u001b[0;34m,\u001b[0m\u001b[0;34m\u001b[0m\u001b[0;34m\u001b[0m\u001b[0m\n",
            "\u001b[0;32m/usr/local/lib/python3.7/dist-packages/torch/nn/modules/linear.py\u001b[0m in \u001b[0;36mforward\u001b[0;34m(self, input)\u001b[0m\n\u001b[1;32m     92\u001b[0m \u001b[0;34m\u001b[0m\u001b[0m\n\u001b[1;32m     93\u001b[0m     \u001b[0;32mdef\u001b[0m \u001b[0mforward\u001b[0m\u001b[0;34m(\u001b[0m\u001b[0mself\u001b[0m\u001b[0;34m,\u001b[0m \u001b[0minput\u001b[0m\u001b[0;34m:\u001b[0m \u001b[0mTensor\u001b[0m\u001b[0;34m)\u001b[0m \u001b[0;34m->\u001b[0m \u001b[0mTensor\u001b[0m\u001b[0;34m:\u001b[0m\u001b[0;34m\u001b[0m\u001b[0;34m\u001b[0m\u001b[0m\n\u001b[0;32m---> 94\u001b[0;31m         \u001b[0;32mreturn\u001b[0m \u001b[0mF\u001b[0m\u001b[0;34m.\u001b[0m\u001b[0mlinear\u001b[0m\u001b[0;34m(\u001b[0m\u001b[0minput\u001b[0m\u001b[0;34m,\u001b[0m \u001b[0mself\u001b[0m\u001b[0;34m.\u001b[0m\u001b[0mweight\u001b[0m\u001b[0;34m,\u001b[0m \u001b[0mself\u001b[0m\u001b[0;34m.\u001b[0m\u001b[0mbias\u001b[0m\u001b[0;34m)\u001b[0m\u001b[0;34m\u001b[0m\u001b[0;34m\u001b[0m\u001b[0m\n\u001b[0m\u001b[1;32m     95\u001b[0m \u001b[0;34m\u001b[0m\u001b[0m\n\u001b[1;32m     96\u001b[0m     \u001b[0;32mdef\u001b[0m \u001b[0mextra_repr\u001b[0m\u001b[0;34m(\u001b[0m\u001b[0mself\u001b[0m\u001b[0;34m)\u001b[0m \u001b[0;34m->\u001b[0m \u001b[0mstr\u001b[0m\u001b[0;34m:\u001b[0m\u001b[0;34m\u001b[0m\u001b[0;34m\u001b[0m\u001b[0m\n",
            "\u001b[0;32m/usr/local/lib/python3.7/dist-packages/torch/nn/functional.py\u001b[0m in \u001b[0;36mlinear\u001b[0;34m(input, weight, bias)\u001b[0m\n\u001b[1;32m   1751\u001b[0m     \u001b[0;32mif\u001b[0m \u001b[0mhas_torch_function_variadic\u001b[0m\u001b[0;34m(\u001b[0m\u001b[0minput\u001b[0m\u001b[0;34m,\u001b[0m \u001b[0mweight\u001b[0m\u001b[0;34m)\u001b[0m\u001b[0;34m:\u001b[0m\u001b[0;34m\u001b[0m\u001b[0;34m\u001b[0m\u001b[0m\n\u001b[1;32m   1752\u001b[0m         \u001b[0;32mreturn\u001b[0m \u001b[0mhandle_torch_function\u001b[0m\u001b[0;34m(\u001b[0m\u001b[0mlinear\u001b[0m\u001b[0;34m,\u001b[0m \u001b[0;34m(\u001b[0m\u001b[0minput\u001b[0m\u001b[0;34m,\u001b[0m \u001b[0mweight\u001b[0m\u001b[0;34m)\u001b[0m\u001b[0;34m,\u001b[0m \u001b[0minput\u001b[0m\u001b[0;34m,\u001b[0m \u001b[0mweight\u001b[0m\u001b[0;34m,\u001b[0m \u001b[0mbias\u001b[0m\u001b[0;34m=\u001b[0m\u001b[0mbias\u001b[0m\u001b[0;34m)\u001b[0m\u001b[0;34m\u001b[0m\u001b[0;34m\u001b[0m\u001b[0m\n\u001b[0;32m-> 1753\u001b[0;31m     \u001b[0;32mreturn\u001b[0m \u001b[0mtorch\u001b[0m\u001b[0;34m.\u001b[0m\u001b[0m_C\u001b[0m\u001b[0;34m.\u001b[0m\u001b[0m_nn\u001b[0m\u001b[0;34m.\u001b[0m\u001b[0mlinear\u001b[0m\u001b[0;34m(\u001b[0m\u001b[0minput\u001b[0m\u001b[0;34m,\u001b[0m \u001b[0mweight\u001b[0m\u001b[0;34m,\u001b[0m \u001b[0mbias\u001b[0m\u001b[0;34m)\u001b[0m\u001b[0;34m\u001b[0m\u001b[0;34m\u001b[0m\u001b[0m\n\u001b[0m\u001b[1;32m   1754\u001b[0m \u001b[0;34m\u001b[0m\u001b[0m\n\u001b[1;32m   1755\u001b[0m \u001b[0;34m\u001b[0m\u001b[0m\n",
            "\u001b[0;31mRuntimeError\u001b[0m: mat1 and mat2 shapes cannot be multiplied (28x28 and 784x2)"
          ]
        }
      ]
    },
    {
      "cell_type": "markdown",
      "metadata": {
        "id": "PfGECQTAXyTd"
      },
      "source": [
        "## 2.4 Resultados\n",
        "\n",
        "Mostrar los resultados del **entrenamiento** y **pruebas**. \n",
        "Utilizar métricas para mostrar bondad del modelo.(Matríz de confusión)\n",
        "Utilizar gráficos. Explicar los resultados obtenidos.\n",
        "\n",
        "### Matriz de confusión\n",
        "\n",
        "Debe construir una para entrenamiento y otra para pruebas\n",
        "\n",
        "|            \t| Perro Pred. \t| Gato Pred. \t |\n",
        "|------------\t|:-------------:|:------------:|\n",
        "| Perro Real \t|      00     \t|     00     \t |\n",
        "| Gato Real  \t|      00     \t|     00     \t |\n",
        "\n",
        "### Métricas\n",
        "\n",
        "Debe construir una para entrenamiento y otra para pruebas\n",
        "\n",
        "|           \t| Clase Perro \t| Clase Gato \t |\n",
        "|-----------\t|:-------------:|:------------:|\n",
        "| Precisión \t|    00.00%  \t  |    00.00%  \t |\n",
        "| Recall    \t|    00.00%    \t|    00.00%  \t |\n",
        "\n",
        "| Tasa de Acierto Global \t| 00.00% \t|\n",
        "|------------------------\t|:------:\t|"
      ]
    },
    {
      "cell_type": "markdown",
      "metadata": {
        "id": "NoHYPDN_pc6y"
      },
      "source": [
        "\n",
        "#### Matriz de confusión para el conjunto de entrenamiento\n",
        "\n",
        "\n"
      ]
    },
    {
      "cell_type": "code",
      "metadata": {
        "id": "koA0UEHgZsh3",
        "colab": {
          "base_uri": "https://localhost:8080/",
          "height": 375
        },
        "outputId": "83cb5b0a-768d-4580-cfe1-a4beccee64c4"
      },
      "source": [
        "from sklearn.metrics import confusion_matrix\n",
        "\n",
        "device = torch.device(\"cuda:0\" if torch.cuda.is_available() else \"cpu\")\n",
        "nb_classes = 2\n",
        "\n",
        "# Initialize the prediction and label lists(tensors)\n",
        "predlist=torch.zeros(0,dtype=torch.long, device=device)\n",
        "lbllist=torch.zeros(0,dtype=torch.long, device=device)\n",
        "\n",
        "with torch.no_grad():\n",
        "    for i, (inputs, classes) in enumerate(torch.utils.data.DataLoader(gatos_perros_train, batch_size=50)):\n",
        "        inputs = inputs.to(device)\n",
        "        classes = classes.to(device)\n",
        "        outputs = linear_model(inputs)\n",
        "        _, preds = torch.max(outputs, 1)\n",
        "\n",
        "        # Append batch prediction results\n",
        "        predlist=torch.cat([predlist,preds.view(-1)])\n",
        "        lbllist=torch.cat([lbllist,classes.view(-1)])\n",
        "\n",
        "# Confusion matrix\n",
        "conf_mat=confusion_matrix(lbllist.numpy(), predlist.numpy())\n",
        "print(conf_mat)\n",
        "\n",
        "# Per-class accuracy\n",
        "class_accuracy=100*conf_mat.diagonal()/conf_mat.sum(1)\n",
        "print(class_accuracy)"
      ],
      "execution_count": 91,
      "outputs": [
        {
          "output_type": "error",
          "ename": "RuntimeError",
          "evalue": "ignored",
          "traceback": [
            "\u001b[0;31m---------------------------------------------------------------------------\u001b[0m",
            "\u001b[0;31mRuntimeError\u001b[0m                              Traceback (most recent call last)",
            "\u001b[0;32m<ipython-input-91-bda71b0e11c8>\u001b[0m in \u001b[0;36m<module>\u001b[0;34m()\u001b[0m\n\u001b[1;32m     12\u001b[0m         \u001b[0minputs\u001b[0m \u001b[0;34m=\u001b[0m \u001b[0minputs\u001b[0m\u001b[0;34m.\u001b[0m\u001b[0mto\u001b[0m\u001b[0;34m(\u001b[0m\u001b[0mdevice\u001b[0m\u001b[0;34m)\u001b[0m\u001b[0;34m\u001b[0m\u001b[0;34m\u001b[0m\u001b[0m\n\u001b[1;32m     13\u001b[0m         \u001b[0mclasses\u001b[0m \u001b[0;34m=\u001b[0m \u001b[0mclasses\u001b[0m\u001b[0;34m.\u001b[0m\u001b[0mto\u001b[0m\u001b[0;34m(\u001b[0m\u001b[0mdevice\u001b[0m\u001b[0;34m)\u001b[0m\u001b[0;34m\u001b[0m\u001b[0;34m\u001b[0m\u001b[0m\n\u001b[0;32m---> 14\u001b[0;31m         \u001b[0moutputs\u001b[0m \u001b[0;34m=\u001b[0m \u001b[0mlinear_model\u001b[0m\u001b[0;34m(\u001b[0m\u001b[0minputs\u001b[0m\u001b[0;34m)\u001b[0m\u001b[0;34m\u001b[0m\u001b[0;34m\u001b[0m\u001b[0m\n\u001b[0m\u001b[1;32m     15\u001b[0m         \u001b[0m_\u001b[0m\u001b[0;34m,\u001b[0m \u001b[0mpreds\u001b[0m \u001b[0;34m=\u001b[0m \u001b[0mtorch\u001b[0m\u001b[0;34m.\u001b[0m\u001b[0mmax\u001b[0m\u001b[0;34m(\u001b[0m\u001b[0moutputs\u001b[0m\u001b[0;34m,\u001b[0m \u001b[0;36m1\u001b[0m\u001b[0;34m)\u001b[0m\u001b[0;34m\u001b[0m\u001b[0;34m\u001b[0m\u001b[0m\n\u001b[1;32m     16\u001b[0m \u001b[0;34m\u001b[0m\u001b[0m\n",
            "\u001b[0;32m/usr/local/lib/python3.7/dist-packages/torch/nn/modules/module.py\u001b[0m in \u001b[0;36m_call_impl\u001b[0;34m(self, *input, **kwargs)\u001b[0m\n\u001b[1;32m    887\u001b[0m             \u001b[0mresult\u001b[0m \u001b[0;34m=\u001b[0m \u001b[0mself\u001b[0m\u001b[0;34m.\u001b[0m\u001b[0m_slow_forward\u001b[0m\u001b[0;34m(\u001b[0m\u001b[0;34m*\u001b[0m\u001b[0minput\u001b[0m\u001b[0;34m,\u001b[0m \u001b[0;34m**\u001b[0m\u001b[0mkwargs\u001b[0m\u001b[0;34m)\u001b[0m\u001b[0;34m\u001b[0m\u001b[0;34m\u001b[0m\u001b[0m\n\u001b[1;32m    888\u001b[0m         \u001b[0;32melse\u001b[0m\u001b[0;34m:\u001b[0m\u001b[0;34m\u001b[0m\u001b[0;34m\u001b[0m\u001b[0m\n\u001b[0;32m--> 889\u001b[0;31m             \u001b[0mresult\u001b[0m \u001b[0;34m=\u001b[0m \u001b[0mself\u001b[0m\u001b[0;34m.\u001b[0m\u001b[0mforward\u001b[0m\u001b[0;34m(\u001b[0m\u001b[0;34m*\u001b[0m\u001b[0minput\u001b[0m\u001b[0;34m,\u001b[0m \u001b[0;34m**\u001b[0m\u001b[0mkwargs\u001b[0m\u001b[0;34m)\u001b[0m\u001b[0;34m\u001b[0m\u001b[0;34m\u001b[0m\u001b[0m\n\u001b[0m\u001b[1;32m    890\u001b[0m         for hook in itertools.chain(\n\u001b[1;32m    891\u001b[0m                 \u001b[0m_global_forward_hooks\u001b[0m\u001b[0;34m.\u001b[0m\u001b[0mvalues\u001b[0m\u001b[0;34m(\u001b[0m\u001b[0;34m)\u001b[0m\u001b[0;34m,\u001b[0m\u001b[0;34m\u001b[0m\u001b[0;34m\u001b[0m\u001b[0m\n",
            "\u001b[0;32m/usr/local/lib/python3.7/dist-packages/torch/nn/modules/linear.py\u001b[0m in \u001b[0;36mforward\u001b[0;34m(self, input)\u001b[0m\n\u001b[1;32m     92\u001b[0m \u001b[0;34m\u001b[0m\u001b[0m\n\u001b[1;32m     93\u001b[0m     \u001b[0;32mdef\u001b[0m \u001b[0mforward\u001b[0m\u001b[0;34m(\u001b[0m\u001b[0mself\u001b[0m\u001b[0;34m,\u001b[0m \u001b[0minput\u001b[0m\u001b[0;34m:\u001b[0m \u001b[0mTensor\u001b[0m\u001b[0;34m)\u001b[0m \u001b[0;34m->\u001b[0m \u001b[0mTensor\u001b[0m\u001b[0;34m:\u001b[0m\u001b[0;34m\u001b[0m\u001b[0;34m\u001b[0m\u001b[0m\n\u001b[0;32m---> 94\u001b[0;31m         \u001b[0;32mreturn\u001b[0m \u001b[0mF\u001b[0m\u001b[0;34m.\u001b[0m\u001b[0mlinear\u001b[0m\u001b[0;34m(\u001b[0m\u001b[0minput\u001b[0m\u001b[0;34m,\u001b[0m \u001b[0mself\u001b[0m\u001b[0;34m.\u001b[0m\u001b[0mweight\u001b[0m\u001b[0;34m,\u001b[0m \u001b[0mself\u001b[0m\u001b[0;34m.\u001b[0m\u001b[0mbias\u001b[0m\u001b[0;34m)\u001b[0m\u001b[0;34m\u001b[0m\u001b[0;34m\u001b[0m\u001b[0m\n\u001b[0m\u001b[1;32m     95\u001b[0m \u001b[0;34m\u001b[0m\u001b[0m\n\u001b[1;32m     96\u001b[0m     \u001b[0;32mdef\u001b[0m \u001b[0mextra_repr\u001b[0m\u001b[0;34m(\u001b[0m\u001b[0mself\u001b[0m\u001b[0;34m)\u001b[0m \u001b[0;34m->\u001b[0m \u001b[0mstr\u001b[0m\u001b[0;34m:\u001b[0m\u001b[0;34m\u001b[0m\u001b[0;34m\u001b[0m\u001b[0m\n",
            "\u001b[0;32m/usr/local/lib/python3.7/dist-packages/torch/nn/functional.py\u001b[0m in \u001b[0;36mlinear\u001b[0;34m(input, weight, bias)\u001b[0m\n\u001b[1;32m   1751\u001b[0m     \u001b[0;32mif\u001b[0m \u001b[0mhas_torch_function_variadic\u001b[0m\u001b[0;34m(\u001b[0m\u001b[0minput\u001b[0m\u001b[0;34m,\u001b[0m \u001b[0mweight\u001b[0m\u001b[0;34m)\u001b[0m\u001b[0;34m:\u001b[0m\u001b[0;34m\u001b[0m\u001b[0;34m\u001b[0m\u001b[0m\n\u001b[1;32m   1752\u001b[0m         \u001b[0;32mreturn\u001b[0m \u001b[0mhandle_torch_function\u001b[0m\u001b[0;34m(\u001b[0m\u001b[0mlinear\u001b[0m\u001b[0;34m,\u001b[0m \u001b[0;34m(\u001b[0m\u001b[0minput\u001b[0m\u001b[0;34m,\u001b[0m \u001b[0mweight\u001b[0m\u001b[0;34m)\u001b[0m\u001b[0;34m,\u001b[0m \u001b[0minput\u001b[0m\u001b[0;34m,\u001b[0m \u001b[0mweight\u001b[0m\u001b[0;34m,\u001b[0m \u001b[0mbias\u001b[0m\u001b[0;34m=\u001b[0m\u001b[0mbias\u001b[0m\u001b[0;34m)\u001b[0m\u001b[0;34m\u001b[0m\u001b[0;34m\u001b[0m\u001b[0m\n\u001b[0;32m-> 1753\u001b[0;31m     \u001b[0;32mreturn\u001b[0m \u001b[0mtorch\u001b[0m\u001b[0;34m.\u001b[0m\u001b[0m_C\u001b[0m\u001b[0;34m.\u001b[0m\u001b[0m_nn\u001b[0m\u001b[0;34m.\u001b[0m\u001b[0mlinear\u001b[0m\u001b[0;34m(\u001b[0m\u001b[0minput\u001b[0m\u001b[0;34m,\u001b[0m \u001b[0mweight\u001b[0m\u001b[0;34m,\u001b[0m \u001b[0mbias\u001b[0m\u001b[0;34m)\u001b[0m\u001b[0;34m\u001b[0m\u001b[0;34m\u001b[0m\u001b[0m\n\u001b[0m\u001b[1;32m   1754\u001b[0m \u001b[0;34m\u001b[0m\u001b[0m\n\u001b[1;32m   1755\u001b[0m \u001b[0;34m\u001b[0m\u001b[0m\n",
            "\u001b[0;31mRuntimeError\u001b[0m: Tensor for argument #3 'mat2' is on CPU, but expected it to be on GPU (while checking arguments for addmm)"
          ]
        }
      ]
    },
    {
      "cell_type": "code",
      "metadata": {
        "id": "u1U-aVDfk4t4"
      },
      "source": [
        "import pandas as pd\n",
        "\n",
        "etiquetas = []\n",
        "predicciones = []\n",
        "\n",
        "for i in range(len(gatos_perros_test)):\n",
        "    etiqueta = gatos_perros_test[i][1]\n",
        "    etiquetas.append(etiqueta)\n",
        "    z = linear_model((gatos_perros_test[i][0]).view(-1,784))\n",
        "    pred = z.max(1, keepdim=True)[1]\n",
        "    pred = pred.numpy()\n",
        "    predicciones.append(pred)\n",
        "\n",
        "etiquetas = np.ravel(etiquetas)\n",
        "predicciones = np.ravel(predicciones)"
      ],
      "execution_count": 148,
      "outputs": []
    },
    {
      "cell_type": "code",
      "metadata": {
        "id": "ShoqcbPVxC8j"
      },
      "source": [
        "from sklearn.metrics import confusion_matrix"
      ],
      "execution_count": 150,
      "outputs": []
    },
    {
      "cell_type": "code",
      "metadata": {
        "colab": {
          "base_uri": "https://localhost:8080/",
          "height": 111
        },
        "id": "kbNmw_H92vyZ",
        "outputId": "b4872c33-57de-4601-995a-6872ba4c61f1"
      },
      "source": [
        "pd.DataFrame(confusion_matrix(1-etiquetas,1-predicciones),columns=['Perro','Gato'],index=['Perro','Gato'])"
      ],
      "execution_count": 179,
      "outputs": [
        {
          "output_type": "execute_result",
          "data": {
            "text/html": [
              "<div>\n",
              "<style scoped>\n",
              "    .dataframe tbody tr th:only-of-type {\n",
              "        vertical-align: middle;\n",
              "    }\n",
              "\n",
              "    .dataframe tbody tr th {\n",
              "        vertical-align: top;\n",
              "    }\n",
              "\n",
              "    .dataframe thead th {\n",
              "        text-align: right;\n",
              "    }\n",
              "</style>\n",
              "<table border=\"1\" class=\"dataframe\">\n",
              "  <thead>\n",
              "    <tr style=\"text-align: right;\">\n",
              "      <th></th>\n",
              "      <th>Perro</th>\n",
              "      <th>Gato</th>\n",
              "    </tr>\n",
              "  </thead>\n",
              "  <tbody>\n",
              "    <tr>\n",
              "      <th>Perro</th>\n",
              "      <td>496</td>\n",
              "      <td>504</td>\n",
              "    </tr>\n",
              "    <tr>\n",
              "      <th>Gato</th>\n",
              "      <td>376</td>\n",
              "      <td>624</td>\n",
              "    </tr>\n",
              "  </tbody>\n",
              "</table>\n",
              "</div>"
            ],
            "text/plain": [
              "       Perro  Gato\n",
              "Perro    496   504\n",
              "Gato     376   624"
            ]
          },
          "metadata": {
            "tags": []
          },
          "execution_count": 179
        }
      ]
    },
    {
      "cell_type": "markdown",
      "metadata": {
        "id": "Fc4h5IGEtq25"
      },
      "source": [
        "[texto del enlace](https://)"
      ]
    },
    {
      "cell_type": "code",
      "metadata": {
        "colab": {
          "base_uri": "https://localhost:8080/"
        },
        "id": "85oL4c2Q-X1m",
        "outputId": "8368139f-d455-4544-a350-2094985e9f8d"
      },
      "source": [
        "etiquetas[-2]"
      ],
      "execution_count": 199,
      "outputs": [
        {
          "output_type": "execute_result",
          "data": {
            "text/plain": [
              "1"
            ]
          },
          "metadata": {
            "tags": []
          },
          "execution_count": 199
        }
      ]
    },
    {
      "cell_type": "code",
      "metadata": {
        "colab": {
          "base_uri": "https://localhost:8080/"
        },
        "id": "LmsMhSGs-agZ",
        "outputId": "c216afc7-18bf-4b4a-c40b-eae3b6ba47ad"
      },
      "source": [
        "predicciones[-2]"
      ],
      "execution_count": 200,
      "outputs": [
        {
          "output_type": "execute_result",
          "data": {
            "text/plain": [
              "0"
            ]
          },
          "metadata": {
            "tags": []
          },
          "execution_count": 200
        }
      ]
    },
    {
      "cell_type": "code",
      "metadata": {
        "id": "Dd3jyhpG-eKS"
      },
      "source": [
        ""
      ],
      "execution_count": 200,
      "outputs": []
    },
    {
      "cell_type": "code",
      "metadata": {
        "id": "bP3bPaWr7FRC"
      },
      "source": [
        "to_pil = torchvision.transforms.ToPILImage()\n",
        "img = to_pil(gatos_perros_test[-2][0])"
      ],
      "execution_count": 201,
      "outputs": []
    },
    {
      "cell_type": "code",
      "metadata": {
        "id": "E3DhB4XuFcld"
      },
      "source": [
        "def imshow(img):\n",
        "  np_img = img.numpy()\n",
        "  plt.imshow(np.transpose(np_img, (1, 2, 0)))"
      ],
      "execution_count": 203,
      "outputs": []
    },
    {
      "cell_type": "code",
      "metadata": {
        "colab": {
          "base_uri": "https://localhost:8080/"
        },
        "id": "YAWFRM7w9BWx",
        "outputId": "103dc057-262e-41f8-fc7b-86a717791732"
      },
      "source": [
        "gatos_perros_test[1999][1]"
      ],
      "execution_count": 178,
      "outputs": [
        {
          "output_type": "execute_result",
          "data": {
            "text/plain": [
              "1"
            ]
          },
          "metadata": {
            "tags": []
          },
          "execution_count": 178
        }
      ]
    },
    {
      "cell_type": "code",
      "metadata": {
        "colab": {
          "base_uri": "https://localhost:8080/"
        },
        "id": "bNloLLQm1d-J",
        "outputId": "73b20dae-68d6-4d9c-ebb0-ea422f7f615d"
      },
      "source": [
        "import pandas as pd\n",
        "\n",
        "etiquetas = []\n",
        "predicciones = []\n",
        "\n",
        "for i in range(len(gatos_perros_train)):\n",
        "    etiqueta = gatos_perros_train[i][1]\n",
        "    etiquetas.append(etiqueta)\n",
        "    z = linear_model((gatos_perros_train[i][0]).view(-1,784))\n",
        "    pred = z.max(1, keepdim=True)[1]\n",
        "    pred = pred.numpy()\n",
        "    predicciones.append(pred)\n",
        "\n",
        "etiquetas = np.ravel(etiquetas)\n",
        "predicciones = np.ravel(predicciones)"
      ],
      "execution_count": 120,
      "outputs": [
        {
          "output_type": "execute_result",
          "data": {
            "text/plain": [
              "tensor([[ 0.1923, -0.2952]], grad_fn=<AddmmBackward>)"
            ]
          },
          "metadata": {
            "tags": []
          },
          "execution_count": 120
        }
      ]
    },
    {
      "cell_type": "code",
      "metadata": {
        "colab": {
          "base_uri": "https://localhost:8080/"
        },
        "id": "H4uj75ewzaRv",
        "outputId": "9a0209f5-d839-499a-abc9-4fd4e6c7dcc4"
      },
      "source": [
        ""
      ],
      "execution_count": 114,
      "outputs": [
        {
          "output_type": "execute_result",
          "data": {
            "text/plain": [
              "tensor([[0]])"
            ]
          },
          "metadata": {
            "tags": []
          },
          "execution_count": 114
        }
      ]
    },
    {
      "cell_type": "code",
      "metadata": {
        "colab": {
          "base_uri": "https://localhost:8080/"
        },
        "id": "j2l9Myx-uT9L",
        "outputId": "5f3f7b18-5df3-457f-bc99-e3b0ad52a14c"
      },
      "source": [
        "etiquetas = []\n",
        "for i in range(3):\n",
        "    etiquetas.append(i)\n",
        "etiquetas"
      ],
      "execution_count": 87,
      "outputs": [
        {
          "output_type": "execute_result",
          "data": {
            "text/plain": [
              "[0, 1, 2]"
            ]
          },
          "metadata": {
            "tags": []
          },
          "execution_count": 87
        }
      ]
    },
    {
      "cell_type": "markdown",
      "metadata": {
        "id": "3AENrnGXqMOt"
      },
      "source": [
        "#3. Clasificador red neuronal profunda convolucional\n",
        "\n",
        "Desarrollo de los experimentos para un clasificador basado en redes neuronales profundas. Se utiliza una arquitectura de redes neuronales convolucionales.\n"
      ]
    },
    {
      "cell_type": "markdown",
      "metadata": {
        "id": "VhL2J3ECqMO4"
      },
      "source": [
        "## 3.1 Diseño del modelo propuesto\n",
        "\n",
        "Explicar arquitectura neuronal:\n",
        "* Entrada de datos\n",
        "* Modelo de red neural propuesto\n",
        "* Salida esperada de datos\n",
        "\n",
        "Respuesta:\n",
        "\n",
        "\n",
        "## 3.2 Parámetros y configuración del modelo\n",
        "\n",
        "Explicar los parámetros e hiperparámetros seleccionados para la implementación del modelo, función de pérdida y modelo de optimización."
      ]
    },
    {
      "cell_type": "code",
      "metadata": {
        "id": "hG3hJ6M8WzxA"
      },
      "source": [
        "# Configurar Hiperametros\n",
        "\n",
        "num_epochs = 70\n",
        "num_classes = 2\n",
        "batch_size = 32\n",
        "learning_rate = 0.0001\n",
        "weight_decay = 0.01"
      ],
      "execution_count": 194,
      "outputs": []
    },
    {
      "cell_type": "code",
      "metadata": {
        "id": "qewcXasFqMO5"
      },
      "source": [
        "# Implementar modelo\n",
        "\n",
        "class CNN(nn.Module): \n",
        "    def __init__(self):\n",
        "        super(CNN, self).__init__()\n",
        "        self.conv1 = nn.Conv2d(in_channels=1, out_channels=512, kernel_size=3)\n",
        "        self.conv2 = nn.Conv2d(512, 1024, kernel_size=3)\n",
        "        self.conv2_drop = nn.Dropout2d()\n",
        "        self.fc1 = nn.Linear(25*1024, 1024) # Calculo (ultimo tamaño filtrado es de 5x5 y son 20 filtros)\n",
        "        self.fc2 = nn.Linear(1024, 2)\n",
        "\n",
        "    def forward(self, x): # Calcular la predicción\n",
        "        x = F.relu(F.max_pool2d(self.conv1(x), 2))\n",
        "        x = F.relu(F.max_pool2d(self.conv2_drop(self.conv2(x)), 2))\n",
        "        x = x.view(x.shape[0],-1)\n",
        "        x = F.relu(self.fc1(x))\n",
        "        x = F.dropout(x, training=self.training)\n",
        "        x = self.fc2(x)\n",
        "        return x"
      ],
      "execution_count": 195,
      "outputs": []
    },
    {
      "cell_type": "code",
      "metadata": {
        "colab": {
          "base_uri": "https://localhost:8080/"
        },
        "id": "cf9XOc5JgRye",
        "outputId": "a3836ee5-a212-42ec-ef1e-9a7b8a0c2581"
      },
      "source": [
        "# CPU or GPU\n",
        "device = torch.device('cuda:0' if torch.cuda.is_available() else 'cpu')\n",
        "device"
      ],
      "execution_count": 196,
      "outputs": [
        {
          "output_type": "execute_result",
          "data": {
            "text/plain": [
              "device(type='cuda', index=0)"
            ]
          },
          "metadata": {
            "tags": []
          },
          "execution_count": 196
        }
      ]
    },
    {
      "cell_type": "code",
      "metadata": {
        "colab": {
          "base_uri": "https://localhost:8080/"
        },
        "id": "-3WpNzYtF21e",
        "outputId": "9bfdb9ba-45a5-4f06-8354-468d9487e137"
      },
      "source": [
        "#Optimizacion del Modelo\n",
        "model = CNN().to(device)\n",
        "print(model)\n",
        "\n",
        "# Inicializar los pesos de la red\n",
        "def weights_init(m):\n",
        "    if isinstance(m, nn.Conv2d):\n",
        "        #torch.nn.init.xavier_uniform_(m.weight)\n",
        "        torch.nn.init.kaiming_normal_(m.weight)\n",
        "        torch.nn.init.ones_(m.bias)\n",
        "\n",
        "model.apply(weights_init)\n",
        "\n",
        "# Configurar función de pérdida\n",
        "criterion = nn.CrossEntropyLoss()\n",
        "\n",
        "# Configurar modelo de optimizacion\n",
        "\n",
        "optimizer = torch.optim.SGD(model.parameters(),lr = learning_rate, weight_decay=weight_decay)\n",
        "#optimizer = torch.optim.Adam(model.parameters(),lr = learning_rate, weight_decay=weight_decay)"
      ],
      "execution_count": 197,
      "outputs": [
        {
          "output_type": "stream",
          "text": [
            "CNN(\n",
            "  (conv1): Conv2d(1, 512, kernel_size=(3, 3), stride=(1, 1))\n",
            "  (conv2): Conv2d(512, 1024, kernel_size=(3, 3), stride=(1, 1))\n",
            "  (conv2_drop): Dropout2d(p=0.5, inplace=False)\n",
            "  (fc1): Linear(in_features=25600, out_features=1024, bias=True)\n",
            "  (fc2): Linear(in_features=1024, out_features=2, bias=True)\n",
            ")\n"
          ],
          "name": "stdout"
        }
      ]
    },
    {
      "cell_type": "markdown",
      "metadata": {
        "id": "zdYtQLp8xOK3"
      },
      "source": [
        "## 3.3 Entrenamiento\n",
        "\n",
        "Implementar entrenamiento.\n"
      ]
    },
    {
      "cell_type": "code",
      "metadata": {
        "colab": {
          "base_uri": "https://localhost:8080/"
        },
        "id": "S-BmivnDxOqa",
        "outputId": "98182c26-bc75-4932-8d14-9c110079a43a"
      },
      "source": [
        "# Implementar entrenamiento\n",
        "#%%timeit\n",
        "# keeping-track-of-losses \n",
        "train_losses = []\n",
        "valid_losses = []\n",
        "\n",
        "for epoch in range(1, num_epochs + 1):\n",
        "    # keep-track-of-training-and-validation-loss\n",
        "    train_loss = 0.0\n",
        "    valid_loss = 0.0\n",
        "    \n",
        "    # training-the-model\n",
        "    model.train()\n",
        "    for data, target in train_loader:\n",
        "        # move-tensors-to-GPU \n",
        "        data = data.to(device)\n",
        "        target = target.to(device)\n",
        "        \n",
        "        # clear-the-gradients-of-all-optimized-variables\n",
        "        optimizer.zero_grad()\n",
        "        # forward-pass: compute-predicted-outputs-by-passing-inputs-to-the-model\n",
        "        output = model(data)\n",
        "        # calculate-the-batch-loss\n",
        "        loss = criterion(output, target)\n",
        "        # backward-pass: compute-gradient-of-the-loss-wrt-model-parameters\n",
        "        loss.backward()\n",
        "        # perform-a-ingle-optimization-step (parameter-update)\n",
        "        optimizer.step()\n",
        "        # update-training-loss\n",
        "        train_loss += loss.item() * data.size(0)\n",
        "        \n",
        "    # validate-the-model\n",
        "    model.eval()\n",
        "    for data, target in valid_loader:\n",
        "        \n",
        "        data = data.to(device)\n",
        "        target = target.to(device)\n",
        "        \n",
        "        output = model(data)\n",
        "        \n",
        "        loss = criterion(output, target)\n",
        "        \n",
        "        # update-average-validation-loss \n",
        "        valid_loss += loss.item() * data.size(0)\n",
        "    \n",
        "    # calculate-average-losses\n",
        "    train_loss = train_loss/len(train_loader.sampler)\n",
        "    valid_loss = valid_loss/len(valid_loader.sampler)\n",
        "    train_losses.append(train_loss)\n",
        "    valid_losses.append(valid_loss)\n",
        "        \n",
        "    # print-training/validation-statistics \n",
        "    print('Epoch: {} \\tTraining Loss: {:.6f} \\tValidation Loss: {:.6f}'.format(\n",
        "        epoch, train_loss, valid_loss))\n",
        "\n"
      ],
      "execution_count": 205,
      "outputs": [
        {
          "output_type": "stream",
          "text": [
            "Epoch: 1 \tTraining Loss: 0.667441 \tValidation Loss: 0.673974\n",
            "Epoch: 2 \tTraining Loss: 0.666462 \tValidation Loss: 0.670790\n",
            "Epoch: 3 \tTraining Loss: 0.666696 \tValidation Loss: 0.676363\n",
            "Epoch: 4 \tTraining Loss: 0.665135 \tValidation Loss: 0.673697\n",
            "Epoch: 5 \tTraining Loss: 0.667533 \tValidation Loss: 0.676480\n",
            "Epoch: 6 \tTraining Loss: 0.665360 \tValidation Loss: 0.670312\n",
            "Epoch: 7 \tTraining Loss: 0.661915 \tValidation Loss: 0.665961\n",
            "Epoch: 8 \tTraining Loss: 0.662755 \tValidation Loss: 0.666461\n",
            "Epoch: 9 \tTraining Loss: 0.663043 \tValidation Loss: 0.671224\n",
            "Epoch: 10 \tTraining Loss: 0.661927 \tValidation Loss: 0.668877\n",
            "Epoch: 11 \tTraining Loss: 0.657892 \tValidation Loss: 0.668357\n",
            "Epoch: 12 \tTraining Loss: 0.664257 \tValidation Loss: 0.663676\n",
            "Epoch: 13 \tTraining Loss: 0.664458 \tValidation Loss: 0.666194\n",
            "Epoch: 14 \tTraining Loss: 0.656922 \tValidation Loss: 0.668008\n",
            "Epoch: 15 \tTraining Loss: 0.659599 \tValidation Loss: 0.674342\n",
            "Epoch: 16 \tTraining Loss: 0.662442 \tValidation Loss: 0.665350\n",
            "Epoch: 17 \tTraining Loss: 0.658558 \tValidation Loss: 0.666314\n",
            "Epoch: 18 \tTraining Loss: 0.656466 \tValidation Loss: 0.663238\n",
            "Epoch: 19 \tTraining Loss: 0.656555 \tValidation Loss: 0.671513\n",
            "Epoch: 20 \tTraining Loss: 0.657280 \tValidation Loss: 0.667588\n",
            "Epoch: 21 \tTraining Loss: 0.655090 \tValidation Loss: 0.666016\n",
            "Epoch: 22 \tTraining Loss: 0.654892 \tValidation Loss: 0.665034\n",
            "Epoch: 23 \tTraining Loss: 0.656874 \tValidation Loss: 0.656130\n",
            "Epoch: 24 \tTraining Loss: 0.658995 \tValidation Loss: 0.668703\n",
            "Epoch: 25 \tTraining Loss: 0.659491 \tValidation Loss: 0.662308\n",
            "Epoch: 26 \tTraining Loss: 0.657389 \tValidation Loss: 0.667728\n",
            "Epoch: 27 \tTraining Loss: 0.659357 \tValidation Loss: 0.664372\n",
            "Epoch: 28 \tTraining Loss: 0.654293 \tValidation Loss: 0.660219\n",
            "Epoch: 29 \tTraining Loss: 0.655955 \tValidation Loss: 0.658695\n",
            "Epoch: 30 \tTraining Loss: 0.654856 \tValidation Loss: 0.666222\n",
            "Epoch: 31 \tTraining Loss: 0.658256 \tValidation Loss: 0.660951\n",
            "Epoch: 32 \tTraining Loss: 0.655815 \tValidation Loss: 0.662538\n",
            "Epoch: 33 \tTraining Loss: 0.655784 \tValidation Loss: 0.666001\n",
            "Epoch: 34 \tTraining Loss: 0.652879 \tValidation Loss: 0.656237\n",
            "Epoch: 35 \tTraining Loss: 0.652810 \tValidation Loss: 0.665201\n",
            "Epoch: 36 \tTraining Loss: 0.655344 \tValidation Loss: 0.660261\n",
            "Epoch: 37 \tTraining Loss: 0.655354 \tValidation Loss: 0.654689\n",
            "Epoch: 38 \tTraining Loss: 0.651572 \tValidation Loss: 0.658508\n",
            "Epoch: 39 \tTraining Loss: 0.654017 \tValidation Loss: 0.660158\n",
            "Epoch: 40 \tTraining Loss: 0.652246 \tValidation Loss: 0.659473\n",
            "Epoch: 41 \tTraining Loss: 0.653310 \tValidation Loss: 0.657983\n",
            "Epoch: 42 \tTraining Loss: 0.657309 \tValidation Loss: 0.656908\n",
            "Epoch: 43 \tTraining Loss: 0.648560 \tValidation Loss: 0.651334\n",
            "Epoch: 44 \tTraining Loss: 0.651684 \tValidation Loss: 0.655431\n",
            "Epoch: 45 \tTraining Loss: 0.651088 \tValidation Loss: 0.651486\n",
            "Epoch: 46 \tTraining Loss: 0.650372 \tValidation Loss: 0.658988\n",
            "Epoch: 47 \tTraining Loss: 0.651851 \tValidation Loss: 0.649177\n",
            "Epoch: 48 \tTraining Loss: 0.650600 \tValidation Loss: 0.658392\n",
            "Epoch: 49 \tTraining Loss: 0.647526 \tValidation Loss: 0.656636\n",
            "Epoch: 50 \tTraining Loss: 0.652082 \tValidation Loss: 0.656816\n",
            "Epoch: 51 \tTraining Loss: 0.645457 \tValidation Loss: 0.656659\n",
            "Epoch: 52 \tTraining Loss: 0.643486 \tValidation Loss: 0.655377\n",
            "Epoch: 53 \tTraining Loss: 0.652241 \tValidation Loss: 0.656469\n",
            "Epoch: 54 \tTraining Loss: 0.645940 \tValidation Loss: 0.656559\n",
            "Epoch: 55 \tTraining Loss: 0.647813 \tValidation Loss: 0.649494\n",
            "Epoch: 56 \tTraining Loss: 0.650140 \tValidation Loss: 0.655306\n",
            "Epoch: 57 \tTraining Loss: 0.645541 \tValidation Loss: 0.655747\n",
            "Epoch: 58 \tTraining Loss: 0.648867 \tValidation Loss: 0.654387\n",
            "Epoch: 59 \tTraining Loss: 0.649081 \tValidation Loss: 0.655879\n",
            "Epoch: 60 \tTraining Loss: 0.646845 \tValidation Loss: 0.654392\n",
            "Epoch: 61 \tTraining Loss: 0.645686 \tValidation Loss: 0.661214\n",
            "Epoch: 62 \tTraining Loss: 0.645660 \tValidation Loss: 0.654049\n",
            "Epoch: 63 \tTraining Loss: 0.645124 \tValidation Loss: 0.649694\n",
            "Epoch: 64 \tTraining Loss: 0.647086 \tValidation Loss: 0.650249\n",
            "Epoch: 65 \tTraining Loss: 0.648317 \tValidation Loss: 0.649643\n",
            "Epoch: 66 \tTraining Loss: 0.643924 \tValidation Loss: 0.652872\n",
            "Epoch: 67 \tTraining Loss: 0.648826 \tValidation Loss: 0.644405\n",
            "Epoch: 68 \tTraining Loss: 0.645432 \tValidation Loss: 0.649932\n",
            "Epoch: 69 \tTraining Loss: 0.645640 \tValidation Loss: 0.649975\n",
            "Epoch: 70 \tTraining Loss: 0.641834 \tValidation Loss: 0.648608\n"
          ],
          "name": "stdout"
        }
      ]
    },
    {
      "cell_type": "code",
      "metadata": {
        "colab": {
          "base_uri": "https://localhost:8080/"
        },
        "id": "qN6Fp-1bp3m7",
        "outputId": "3af2664f-dd43-4d7f-cff5-da5355e7ae18"
      },
      "source": [
        "# PERSISTENCIA 01: Guardar solo los pesos y crear la estructura la red desde cero \n",
        "# para luego cargarla con los pesos guardados. (RECOMENDADO)\n",
        "\n",
        "# Guardar solo los pesos (w) modelo (Recomienda)\n",
        "torch.save(model.state_dict(), '/content/model-pesos.pickle')\n",
        "\n",
        "model = CNN().to(device)\n",
        "model.load_state_dict(torch.load('/content/model-pesos.pickle'))\n",
        "\n",
        "# Validación o pruebas\n",
        "model.eval()"
      ],
      "execution_count": 206,
      "outputs": [
        {
          "output_type": "execute_result",
          "data": {
            "text/plain": [
              "CNN(\n",
              "  (conv1): Conv2d(1, 512, kernel_size=(3, 3), stride=(1, 1))\n",
              "  (conv2): Conv2d(512, 1024, kernel_size=(3, 3), stride=(1, 1))\n",
              "  (conv2_drop): Dropout2d(p=0.5, inplace=False)\n",
              "  (fc1): Linear(in_features=25600, out_features=1024, bias=True)\n",
              "  (fc2): Linear(in_features=1024, out_features=2, bias=True)\n",
              ")"
            ]
          },
          "metadata": {
            "tags": []
          },
          "execution_count": 206
        }
      ]
    },
    {
      "cell_type": "code",
      "metadata": {
        "colab": {
          "base_uri": "https://localhost:8080/"
        },
        "id": "PY9T__37p5uy",
        "outputId": "e7fd2db9-35a0-4b31-962b-c53d08092e04"
      },
      "source": [
        "# Persistencia 02: Guardar el modelo completo.\n",
        "\n",
        "# Guardar el modelo (estructura de datos) y los pesos (w)\n",
        "torch.save(model, '/content/model-pesos-ed.pickle')\n",
        "\n",
        "# Cargar el modelo completo, no es necesario crearlo\n",
        "model_all = torch.load('/content/model-pesos-ed.pickle')\n",
        "model_all.eval()"
      ],
      "execution_count": 207,
      "outputs": [
        {
          "output_type": "execute_result",
          "data": {
            "text/plain": [
              "CNN(\n",
              "  (conv1): Conv2d(1, 512, kernel_size=(3, 3), stride=(1, 1))\n",
              "  (conv2): Conv2d(512, 1024, kernel_size=(3, 3), stride=(1, 1))\n",
              "  (conv2_drop): Dropout2d(p=0.5, inplace=False)\n",
              "  (fc1): Linear(in_features=25600, out_features=1024, bias=True)\n",
              "  (fc2): Linear(in_features=1024, out_features=2, bias=True)\n",
              ")"
            ]
          },
          "metadata": {
            "tags": []
          },
          "execution_count": 207
        }
      ]
    },
    {
      "cell_type": "markdown",
      "metadata": {
        "id": "oNUEOMLYyoL_"
      },
      "source": [
        "### Gráfico de función de pérdida del conjunto de entrenamiento y validación"
      ]
    },
    {
      "cell_type": "code",
      "metadata": {
        "colab": {
          "base_uri": "https://localhost:8080/",
          "height": 295
        },
        "id": "yJSjf_zHyotg",
        "outputId": "ce06678a-3f23-49f5-c67e-d1cfa6a80a12"
      },
      "source": [
        "%matplotlib inline\n",
        "%config InlineBackend.figure_format = 'retina'\n",
        "\n",
        "plt.plot(train_losses, label='Training loss')\n",
        "plt.plot(valid_losses, label='Validation loss')\n",
        "plt.xlabel(\"Epochs\")\n",
        "plt.ylabel(\"Loss\")\n",
        "plt.legend(frameon=False)\n"
      ],
      "execution_count": 208,
      "outputs": [
        {
          "output_type": "execute_result",
          "data": {
            "text/plain": [
              "<matplotlib.legend.Legend at 0x7fb859833250>"
            ]
          },
          "metadata": {
            "tags": []
          },
          "execution_count": 208
        },
        {
          "output_type": "display_data",
          "data": {
            "image/png": "[encoded data removed]",
            "text/plain": [
              "<Figure size 432x288 with 1 Axes>"
            ]
          },
          "metadata": {
            "tags": [],
            "image/png": {
              "width": 398,
              "height": 261
            },
            "needs_background": "light"
          }
        }
      ]
    },
    {
      "cell_type": "markdown",
      "metadata": {
        "id": "jT19Gu-fyySX"
      },
      "source": [
        "### Gráfico de tasa de acierto del conjunto de entrenamiento y validación"
      ]
    },
    {
      "cell_type": "code",
      "metadata": {
        "id": "TMN32-layyy0",
        "colab": {
          "base_uri": "https://localhost:8080/"
        },
        "outputId": "fb193e23-ad2a-46f5-87b0-89f257487aca"
      },
      "source": [
        "# test-the-model\n",
        "model.eval()  # it-disables-dropout\n",
        "with torch.no_grad():\n",
        "    correct = 0\n",
        "    total = 0\n",
        "    for images, labels in train_loader:\n",
        "        images = images.to(device)\n",
        "        labels = labels.to(device)\n",
        "        outputs = model(images)\n",
        "        _, predicted = torch.max(outputs.data, 1)\n",
        "        total += labels.size(0)\n",
        "        correct += (predicted == labels).sum().item()\n",
        "          \n",
        "    print('Test Accuracy of the model: {} %'.format(100 * correct / total))\n",
        "\n",
        "\n"
      ],
      "execution_count": 210,
      "outputs": [
        {
          "output_type": "stream",
          "text": [
            "Test Accuracy of the model: 62.85 %\n"
          ],
          "name": "stdout"
        }
      ]
    },
    {
      "cell_type": "code",
      "metadata": {
        "colab": {
          "base_uri": "https://localhost:8080/"
        },
        "id": "X43neEG3ZeOE",
        "outputId": "edbfc4fc-da5a-42f9-96de-e07e5e6eaec6"
      },
      "source": [
        "model.eval()  # it-disables-dropout\n",
        "with torch.no_grad():\n",
        "    correct = 0\n",
        "    total = 0\n",
        "    for images, labels in valid_loader:\n",
        "        images = images.to(device)\n",
        "        labels = labels.to(device)\n",
        "        outputs = model(images)\n",
        "        _, predicted = torch.max(outputs.data, 1)\n",
        "        total += labels.size(0)\n",
        "        correct += (predicted == labels).sum().item()\n",
        "          \n",
        "    print('Test Accuracy of the model: {} %'.format(100 * correct / total))\n",
        "\n",
        "# Save \n",
        "torch.save(model.state_dict(), 'model.ckpt')"
      ],
      "execution_count": 212,
      "outputs": [
        {
          "output_type": "stream",
          "text": [
            "Test Accuracy of the model: 60.25 %\n"
          ],
          "name": "stdout"
        }
      ]
    },
    {
      "cell_type": "markdown",
      "metadata": {
        "id": "DdVNgp21m2Rf"
      },
      "source": [
        "### Visualizar los mapas de activación\n",
        "\n",
        "Mostrar los mapas de activación para un ejemplo de perro y otro para el ejemplo de gato."
      ]
    },
    {
      "cell_type": "code",
      "metadata": {
        "id": "idiqfQqQm2om"
      },
      "source": [
        ""
      ],
      "execution_count": null,
      "outputs": []
    },
    {
      "cell_type": "markdown",
      "metadata": {
        "id": "0dSHQe9DqMO5"
      },
      "source": [
        "## 3.4 Pruebas\n",
        "\n",
        "Explicar como se realizarán los experimentos y su pruebas. \n",
        "\n",
        "Los experimentos del conjunto de pruebas dependen de los hiperparámetros obtenidos en el entrenamiento. Explicar como son fijados esos hiperparámetros para el conjunto de prueba."
      ]
    },
    {
      "cell_type": "code",
      "metadata": {
        "id": "3723D2JeqMO5",
        "colab": {
          "base_uri": "https://localhost:8080/"
        },
        "outputId": "d979a970-34a9-448d-d267-fcff411720f1"
      },
      "source": [
        "# test-the-model\n",
        "model.eval()  # it-disables-dropout\n",
        "with torch.no_grad():\n",
        "    correct = 0\n",
        "    total = 0\n",
        "    for images, labels in test_loader:\n",
        "        images = images.to(device)\n",
        "        labels = labels.to(device)\n",
        "        outputs = model(images)\n",
        "        _, predicted = torch.max(outputs.data, 1)\n",
        "        total += labels.size(0)\n",
        "        correct += (predicted == labels).sum().item()\n",
        "          \n",
        "    print('Test Accuracy of the model: {} %'.format(100 * correct / total))\n",
        "\n",
        "# Save \n",
        "torch.save(model.state_dict(), 'model.ckpt')"
      ],
      "execution_count": 209,
      "outputs": [
        {
          "output_type": "stream",
          "text": [
            "Test Accuracy of the model: 61.9 %\n"
          ],
          "name": "stdout"
        }
      ]
    },
    {
      "cell_type": "code",
      "metadata": {
        "id": "jzI8tUHMViSC"
      },
      "source": [
        "def custom_viz(kernels, path=None, cols=None, size=None, verbose=False, axis=False):\n",
        "    \"\"\"Visualize weight and activation matrices learned \n",
        "    during the optimization process. Works for any size of kernels.\n",
        "    \n",
        "    Arguments\n",
        "    =========\n",
        "    kernels: Weight or activation matrix. Must be a high dimensional\n",
        "    Numpy array. Tensors will not work.\n",
        "    path: Path to save the visualizations.\n",
        "    cols: Number of columns (doesn't work completely yet.)\n",
        "    size: Tuple input for size. For example: size=(5,5)\n",
        "    verbose: Print information about the input.\n",
        "    Example\n",
        "    =======\n",
        "    kernels = model.conv1.weight.cpu().detach().clone()\n",
        "    kernels = kernels - kernels.min()\n",
        "    kernels = kernels / kernels.max()\n",
        "    custom_viz(kernels, 'results/conv1_weights.png', 5)\n",
        "    \"\"\"\n",
        "    def set_size(w,h, ax=None):\n",
        "        \"\"\" w, h: width, height in inches \"\"\"\n",
        "        if not ax: ax=plt.gca()\n",
        "        l = ax.figure.subplotpars.left\n",
        "        r = ax.figure.subplotpars.right\n",
        "        t = ax.figure.subplotpars.top\n",
        "        b = ax.figure.subplotpars.bottom\n",
        "        figw = float(w)/(r-l)\n",
        "        figh = float(h)/(t-b)\n",
        "        ax.figure.set_size_inches(figw, figh)\n",
        "    \n",
        "    N = kernels.shape[0]\n",
        "    C = kernels.shape[1]\n",
        "    total_cols = N*C\n",
        "    pos = range(1,total_cols + 1)\n",
        "    \n",
        "    if verbose:\n",
        "        print(\"Shape of input: \", kernels.shape)\n",
        "        \n",
        "    if cols==None:\n",
        "        req_cols = C\n",
        "        num_rows = N\n",
        "    elif cols:\n",
        "        req_cols = cols\n",
        "        # Account for more rows while diving total cols\n",
        "        # with requested number of cols in the figure\n",
        "        # Hence, using np.ceil to get the largest int\n",
        "        # from the quotient of division.\n",
        "        num_rows = int(np.ceil(total_cols/req_cols))\n",
        "    elif C>1:\n",
        "        # Check for 1D arrays and such. Mostly not needed.\n",
        "        req_cols = C\n",
        "\n",
        "    fig = plt.figure(1)\n",
        "    fig.tight_layout()\n",
        "    k=0\n",
        "    for i in range(kernels.shape[0]):\n",
        "        for j in range(kernels.shape[1]):\n",
        "            img = kernels[i][j]\n",
        "            ax = fig.add_subplot(num_rows,req_cols,pos[k])\n",
        "            ax.imshow(img, cmap='gray')\n",
        "            if axis:\n",
        "                plt.axis('on')\n",
        "            elif axis==False:\n",
        "                plt.axis('off')\n",
        "            k = k+1\n",
        "    if size:\n",
        "        size_h,size_w = size\n",
        "        set_size(size_h,size_w,ax)\n",
        "    if path:\n",
        "        plt.savefig(path, dpi=100)\n",
        "    plt.show()\n",
        "\n",
        "    "
      ],
      "execution_count": null,
      "outputs": []
    },
    {
      "cell_type": "code",
      "metadata": {
        "id": "0capVUp6VwHf"
      },
      "source": [
        "kernels = model.conv1.weight.cpu().detach().clone()\n",
        "kernels = kernels - kernels.min()\n",
        "kernels = kernels / kernels.max()\n",
        "custom_viz(kernels, '/content/conv1_weights.png', 4)"
      ],
      "execution_count": null,
      "outputs": []
    },
    {
      "cell_type": "code",
      "metadata": {
        "id": "fZIHRwfOV7AB"
      },
      "source": [
        "# Dibujar el primer kernel\n",
        "kernels = model.conv1.weight.cpu().detach().clone()\n",
        "print(kernels.shape)\n",
        "\n",
        "# Imprimir primer kernel\n",
        "plt.imshow(kernels[0][0], cmap='gray')\n",
        "plt.colorbar()\n"
      ],
      "execution_count": null,
      "outputs": []
    },
    {
      "cell_type": "code",
      "metadata": {
        "id": "i_zpoGI_WCh0"
      },
      "source": [
        "from torch.autograd import Variable\n",
        "\n",
        "# Ver imágenes filtradas en la primera capa convulocional\n",
        "examples = enumerate(test_loader)\n",
        "batch_idx, (example_data, example_targets) = next(examples)\n",
        "print(batch_idx, example_data.shape, example_targets)\n",
        "\n",
        "# Obtenemos la primera imagen del conjunto de entrenamiento\n",
        "# Un gato\n",
        "cat = example_data[0]\n",
        "print(number.shape)\n",
        "\n",
        "# Mostramos la imagen del gato\n",
        "plt.imshow(cat[0], cmap='gray')\n",
        "plt.colorbar()\n",
        "\n",
        "# Congelamos los datos de la imagen\n",
        "cat.unsqueeze_(0)\n",
        "cat = Variable(number, requires_grad=False)\n",
        "\n",
        "# Aplicamos todos los filtros de la primera capa convulocional a la imagen\n",
        "conv1_out = model.conv1.forward(cat.cuda())\n",
        "print(conv1_out.shape)\n",
        "\n",
        "# Creo una copia de todas las imágenes filtradas fuera de la GPU\n",
        "conv1_out_cpu = conv1_out.cpu().detach().clone()\n",
        "\n",
        "# Mostramos las primeras 60 imágenes filtradas\n",
        "fig, axs = plt.subplots(nrows=5, ncols=12, figsize=(24, 12),\n",
        "                        subplot_kw={'xticks': [], 'yticks': []})\n",
        "\n",
        "for index, ax in enumerate(axs.flat):  \n",
        "   ax.imshow(conv1_out_cpu[0][index], cmap='gray')\n"
      ],
      "execution_count": null,
      "outputs": []
    },
    {
      "cell_type": "markdown",
      "metadata": {
        "id": "zOcBI4yNqMO5"
      },
      "source": [
        "## 3.5 Resultados\n",
        "\n",
        "Mostrar los resultados del entrenamiento y pruebas. \n",
        "Utilizar métricas para mostrar bondad del modelo.(Matríz de confusión)\n",
        "Utilizar gráficos. Explicar los resultados obtenidos.\n",
        "\n",
        "Debe construir una para entrenamiento y otra para pruebas\n",
        "\n",
        "|            \t| Perro Pred. \t| Gato Pred. \t |\n",
        "|------------\t|:-------------:|:------------:|\n",
        "| Perro Real \t|      00     \t|     00     \t |\n",
        "| Gato Real  \t|      00     \t|     00     \t |\n",
        "\n",
        "### Métricas\n",
        "\n",
        "Debe construir una para entrenamiento y otra para pruebas\n",
        "\n",
        "|           \t| Clase Perro \t| Clase Gato \t |\n",
        "|-----------\t|:-------------:|:------------:|\n",
        "| Precisión \t|    00.00%  \t  |    00.00%  \t |\n",
        "| Recall    \t|    00.00%    \t|    00.00%  \t |\n",
        "\n",
        "| Tasa de Acierto Global \t| 00.00% \t|\n",
        "|------------------------\t|:------:\t|\n",
        "\n",
        "\n"
      ]
    },
    {
      "cell_type": "code",
      "metadata": {
        "id": "uwy3QoTYqMO5"
      },
      "source": [
        ""
      ],
      "execution_count": null,
      "outputs": []
    },
    {
      "cell_type": "markdown",
      "metadata": {
        "id": "w2XSDxmNZtcS"
      },
      "source": [
        "#4. Conclusiones\n",
        "\n",
        "Conclusiones sobre el uso de la técnica. Ventajas y desventajas. ¿Se cumplen los objetivos del laboratorio?. ¿Como se comparan los resultados con los experimientos hechos en clases para el mismo problema?\n",
        "\n"
      ]
    }
  ]
}